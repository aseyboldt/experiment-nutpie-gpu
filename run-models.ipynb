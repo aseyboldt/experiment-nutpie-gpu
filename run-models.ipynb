{
 "cells": [
  {
   "cell_type": "code",
   "execution_count": 75,
   "id": "5c4eef52-1e1f-4bda-ba9c-ef663050a561",
   "metadata": {},
   "outputs": [],
   "source": [
    "import jax\n",
    "import pymc as pm"
   ]
  },
  {
   "cell_type": "code",
   "execution_count": 76,
   "id": "af7a055a-13d2-407a-a57f-26e45ee7bba9",
   "metadata": {},
   "outputs": [],
   "source": [
    "N = 10_000"
   ]
  },
  {
   "cell_type": "code",
   "execution_count": 77,
   "id": "2b8194a0-0939-40da-b136-ed1e0600ae68",
   "metadata": {},
   "outputs": [],
   "source": [
    "with pm.Model() as model:\n",
    "    pm.Normal(\"x\", shape=N)"
   ]
  },
  {
   "cell_type": "code",
   "execution_count": 78,
   "id": "43121364-5bfe-4824-a794-b05996bdb554",
   "metadata": {},
   "outputs": [
    {
     "name": "stderr",
     "output_type": "stream",
     "text": [
      "sample: 100%|██████████| 2000/2000 [00:24<00:00, 83.17it/s, 31 steps of size 1.55e-01. acc. prob=0.85]\n",
      "Only one chain was sampled, this makes it impossible to run some convergence checks\n"
     ]
    },
    {
     "name": "stdout",
     "output_type": "stream",
     "text": [
      "CPU times: user 24.9 s, sys: 792 ms, total: 25.7 s\n",
      "Wall time: 24.5 s\n"
     ]
    }
   ],
   "source": [
    "%%time\n",
    "with model:\n",
    "    tr_numpyro = pm.sample(\n",
    "        nuts_sampler=\"numpyro\",\n",
    "        discard_tuned_samples=False,\n",
    "        chains=1,\n",
    "        idata_kwargs=dict(save_warmup=True),\n",
    "    )"
   ]
  },
  {
   "cell_type": "code",
   "execution_count": 79,
   "id": "523270fb-32e7-45ba-a249-6f1e2982bb4a",
   "metadata": {},
   "outputs": [
    {
     "ename": "AttributeError",
     "evalue": "'Dataset' object has no attribute 'num_steps'",
     "output_type": "error",
     "traceback": [
      "\u001b[0;31m---------------------------------------------------------------------------\u001b[0m",
      "\u001b[0;31mAttributeError\u001b[0m                            Traceback (most recent call last)",
      "Cell \u001b[0;32mIn[79], line 1\u001b[0m\n\u001b[0;32m----> 1\u001b[0m \u001b[43mtr_numpyro\u001b[49m\u001b[38;5;241;43m.\u001b[39;49m\u001b[43msample_stats\u001b[49m\u001b[38;5;241;43m.\u001b[39;49m\u001b[43mnum_steps\u001b[49m\u001b[38;5;241m.\u001b[39msum(\u001b[38;5;124m\"\u001b[39m\u001b[38;5;124mdraw\u001b[39m\u001b[38;5;124m\"\u001b[39m)\n",
      "File \u001b[0;32m~/git/experiment-nutpie-gpu/.pixi/envs/default/lib/python3.11/site-packages/xarray/core/common.py:285\u001b[0m, in \u001b[0;36mAttrAccessMixin.__getattr__\u001b[0;34m(self, name)\u001b[0m\n\u001b[1;32m    283\u001b[0m         \u001b[38;5;28;01mwith\u001b[39;00m suppress(\u001b[38;5;167;01mKeyError\u001b[39;00m):\n\u001b[1;32m    284\u001b[0m             \u001b[38;5;28;01mreturn\u001b[39;00m source[name]\n\u001b[0;32m--> 285\u001b[0m \u001b[38;5;28;01mraise\u001b[39;00m \u001b[38;5;167;01mAttributeError\u001b[39;00m(\n\u001b[1;32m    286\u001b[0m     \u001b[38;5;124mf\u001b[39m\u001b[38;5;124m\"\u001b[39m\u001b[38;5;132;01m{\u001b[39;00m\u001b[38;5;28mtype\u001b[39m(\u001b[38;5;28mself\u001b[39m)\u001b[38;5;241m.\u001b[39m\u001b[38;5;18m__name__\u001b[39m\u001b[38;5;132;01m!r}\u001b[39;00m\u001b[38;5;124m object has no attribute \u001b[39m\u001b[38;5;132;01m{\u001b[39;00mname\u001b[38;5;132;01m!r}\u001b[39;00m\u001b[38;5;124m\"\u001b[39m\n\u001b[1;32m    287\u001b[0m )\n",
      "\u001b[0;31mAttributeError\u001b[0m: 'Dataset' object has no attribute 'num_steps'"
     ]
    }
   ],
   "source": [
    "tr_numpyro.sample_stats.num_steps.sum(\"draw\")"
   ]
  },
  {
   "cell_type": "code",
   "execution_count": null,
   "id": "4b8626aa-557f-49ba-b32e-6a43a72b38ff",
   "metadata": {},
   "outputs": [],
   "source": [
    "%env ORT_DYLIB_PATH=/home/adr/.cache/ort.pyke.io/dfbin/x86_64-unknown-linux-gnu/C23A69F709DF91D2BB185D76A29901BD4BE81CD66D85DBCFC5E8BCD851DE9891/onnxruntime/lib/libonnxruntime.so\n",
    "\n",
    "import nutpie\n",
    "import torch\n",
    "import io"
   ]
  },
  {
   "cell_type": "code",
   "execution_count": null,
   "id": "da09cb57-fd9a-451e-9620-4d9405bfdfa3",
   "metadata": {},
   "outputs": [],
   "source": [
    "N = 10_000"
   ]
  },
  {
   "cell_type": "code",
   "execution_count": null,
   "id": "d4c0fb28-a1f0-43c8-86aa-9e0439fafea4",
   "metadata": {},
   "outputs": [],
   "source": [
    "class Module(torch.nn.Module):\n",
    "    def __init__(self):\n",
    "        super().__init__()\n",
    "        self.mu = torch.nn.Parameter(torch.ones(N), requires_grad=False)\n",
    "\n",
    "    def forward(self, x):\n",
    "        return ((-((x - self.mu) ** 2).sum() / 2), (self.mu - x))\n",
    "        \n",
    "mod = Module()"
   ]
  },
  {
   "cell_type": "code",
   "execution_count": null,
   "id": "7ebfe61a-d449-4363-99d2-a0a6aa4241f6",
   "metadata": {},
   "outputs": [],
   "source": [
    "exported = torch.onnx.dynamo_export(mod, torch.zeros(N))\n",
    "\n",
    "exported_bytes = io.BytesIO()\n",
    "exported.save(exported_bytes)\n",
    "exported_bytes = exported_bytes.getvalue()\n",
    "\n",
    "providers = nutpie._lib.OnnxProviders()\n",
    "providers.add_cuda()\n",
    "#providers.add_cpu()\n",
    "\n",
    "nutpie_model = nutpie._lib.OnnxModel(N, exported_bytes, providers)"
   ]
  },
  {
   "cell_type": "code",
   "execution_count": null,
   "id": "2d47769c-3754-4f22-b2b7-8a122f529e44",
   "metadata": {},
   "outputs": [],
   "source": [
    "%%time\n",
    "settings = nutpie._lib.PyDiagGradNutsSettings()\n",
    "settings.num_chains = 4\n",
    "sampler = nutpie._lib.PySampler.from_onnx(settings, 4, nutpie_model, \"\", 0, callback=None)\n",
    "tr = sampler.wait()"
   ]
  },
  {
   "cell_type": "code",
   "execution_count": null,
   "id": "c658f3e6-3672-40ba-a45f-c864291ea061",
   "metadata": {},
   "outputs": [],
   "source": [
    "tr = sampler.extract_results()"
   ]
  },
  {
   "cell_type": "code",
   "execution_count": null,
   "id": "be874979-764f-410b-af5d-bb6a722ded72",
   "metadata": {},
   "outputs": [],
   "source": [
    "tr[0][1].field(\"n_steps\").sum()"
   ]
  },
  {
   "cell_type": "code",
   "execution_count": null,
   "id": "be5ce33f-cace-4d4b-a60e-7c595fec8781",
   "metadata": {},
   "outputs": [],
   "source": []
  }
 ],
 "metadata": {
  "kernelspec": {
   "display_name": "Pixi - Python 3 (ipykernel)",
   "language": "python",
   "name": "pixi-kernel-python3"
  },
  "language_info": {
   "codemirror_mode": {
    "name": "ipython",
    "version": 3
   },
   "file_extension": ".py",
   "mimetype": "text/x-python",
   "name": "python",
   "nbconvert_exporter": "python",
   "pygments_lexer": "ipython3",
   "version": "3.11.9"
  }
 },
 "nbformat": 4,
 "nbformat_minor": 5
}
